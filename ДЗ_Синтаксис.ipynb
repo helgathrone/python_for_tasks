{
  "nbformat": 4,
  "nbformat_minor": 0,
  "metadata": {
    "colab": {
      "provenance": []
    },
    "kernelspec": {
      "name": "python3",
      "display_name": "Python 3"
    },
    "language_info": {
      "name": "python"
    }
  },
  "cells": [
    {
      "cell_type": "markdown",
      "source": [
        "#Домашнє завдання до теми \"Синтаксис Python\"\n",
        "\n",
        "В ДЗ першого модулю важливою умовою виконання завдань є те, що ми не імпортуємо жодних бібліотек, а робимо все на чистому Python, використовуючи лише базовий функціонал. Це необхідно аби відпрацювати роботу з базовими типами даних. А використовувати бібліотеки ми ще навчимось далі :)"
      ],
      "metadata": {
        "id": "tvPKWXfD7yRv"
      }
    },
    {
      "cell_type": "markdown",
      "source": [
        "1. Створіть змінну, яка буде зберігати кількість яблук. І надайте їй значення 5. Виведіть значення змінної на екран."
      ],
      "metadata": {
        "id": "xE1KHmUbQVbC"
      }
    },
    {
      "cell_type": "code",
      "source": [
        "apples_amount = 5\n",
        "display(apples_amount)"
      ],
      "metadata": {
        "id": "iz5QpN-vQUtN",
        "colab": {
          "base_uri": "https://localhost:8080/",
          "height": 34
        },
        "outputId": "a2b67ff0-9abc-4189-89c5-782a9f718ea3"
      },
      "execution_count": null,
      "outputs": [
        {
          "output_type": "display_data",
          "data": {
            "text/plain": [
              "5"
            ]
          },
          "metadata": {}
        }
      ]
    },
    {
      "cell_type": "markdown",
      "source": [
        "2. Виведіть тип змінної, створеної в завданні (1)."
      ],
      "metadata": {
        "id": "wx6RsBHAQd9q"
      }
    },
    {
      "cell_type": "code",
      "source": [
        "display(type(apples_amount))"
      ],
      "metadata": {
        "id": "f48l2PhiQi86",
        "colab": {
          "base_uri": "https://localhost:8080/",
          "height": 34
        },
        "outputId": "dfd230bf-296e-4423-9783-b7992a162d45"
      },
      "execution_count": null,
      "outputs": [
        {
          "output_type": "display_data",
          "data": {
            "text/plain": [
              "int"
            ]
          },
          "metadata": {}
        }
      ]
    },
    {
      "cell_type": "markdown",
      "source": [
        "3. Додайте до значення змінної, створеної в завданні (1) число `12` і виведіть результат на екран з допомогою команди `print()`."
      ],
      "metadata": {
        "id": "UEc59pPcQnva"
      }
    },
    {
      "cell_type": "code",
      "source": [
        "print(apples_amount + 12)"
      ],
      "metadata": {
        "id": "gu-vkERpQoCY",
        "colab": {
          "base_uri": "https://localhost:8080/"
        },
        "outputId": "01c633c9-691b-4a80-98b2-e8e4aa42e8a4"
      },
      "execution_count": null,
      "outputs": [
        {
          "output_type": "stream",
          "name": "stdout",
          "text": [
            "17\n"
          ]
        }
      ]
    },
    {
      "cell_type": "markdown",
      "source": [
        "4. Запустіть код нижче аби створити дві змінні."
      ],
      "metadata": {
        "id": "yOztaNuqqcMy"
      }
    },
    {
      "cell_type": "code",
      "source": [
        "a = 48\n",
        "b = 3"
      ],
      "metadata": {
        "id": "kbXeQSgcqncV"
      },
      "execution_count": null,
      "outputs": []
    },
    {
      "cell_type": "markdown",
      "source": [
        "Створіть нову клітинку нижче цієї з допомогою натискання англійської літери `B`, коли ви НЕ в режимі редагування клітинки. В створеній клітинці створіть змінну `c`, яка буде містити результат ділення `a` на `b`."
      ],
      "metadata": {
        "id": "9ojIRMw3qvw8"
      }
    },
    {
      "cell_type": "code",
      "source": [
        "c = int(a / b)\n",
        "print (c)"
      ],
      "metadata": {
        "colab": {
          "base_uri": "https://localhost:8080/"
        },
        "id": "vPd0dO0rf6M5",
        "outputId": "fd8a0a78-3622-4a6f-8562-2bbed02ac0a1"
      },
      "execution_count": null,
      "outputs": [
        {
          "output_type": "stream",
          "name": "stdout",
          "text": [
            "16\n"
          ]
        }
      ]
    },
    {
      "cell_type": "code",
      "source": [
        "print('a is', a, type(a))\n",
        "print('b is', b, type(b))\n",
        "print('c is', c, type(c))\n",
        "\n",
        "# всі числа є цілими, з ними можна проводити арифметичні операції"
      ],
      "metadata": {
        "colab": {
          "base_uri": "https://localhost:8080/"
        },
        "id": "ugACCHXLgGFk",
        "outputId": "260254ce-7e14-421b-f3f1-332a07ae542a"
      },
      "execution_count": null,
      "outputs": [
        {
          "output_type": "stream",
          "name": "stdout",
          "text": [
            "a is 48 <class 'int'>\n",
            "b is 3 <class 'int'>\n",
            "c is 16 <class 'int'>\n"
          ]
        }
      ]
    },
    {
      "cell_type": "markdown",
      "source": [
        "Створіть ще одну нову клітинку, тільки тепер вище цієї. Для цього натисніть  англійську літеру `A`, коли ви НЕ в режимі редагування клітинки. Виведіть в новоствореній клітинці значення і тип кожної зі змінних `a`, `b`, `c`. Проаналізуйте результат.\n"
      ],
      "metadata": {
        "id": "XcmIZ24wq4px"
      }
    },
    {
      "cell_type": "markdown",
      "source": [
        "У Python, коли ви ділите одне ціле число на інше, результат буде автоматично приведений до типу float, якщо він не є цілим числом. Це робиться для того, щоб забезпечити більш точний результат ділення, особливо коли результат міг би бути десятковим числом."
      ],
      "metadata": {
        "id": "v9rj7B4-sGaG"
      }
    },
    {
      "cell_type": "markdown",
      "source": [
        "5. Перегляньте наступний код, подумайте, що він виведе в результаті, та потім, запустіть його."
      ],
      "metadata": {
        "id": "irjcdM8puaEx"
      }
    },
    {
      "cell_type": "code",
      "source": [
        "a = 10\n",
        "a = 12\n",
        "a = 15\n",
        "\n",
        "b = 4\n",
        "b = 8\n",
        "b = 14\n",
        "\n",
        "c = 3\n",
        "c = 6\n",
        "c = 9\n",
        "\n",
        "\n",
        "a + b + c  # виведе 38, оскільки пітон бере до уваги лише значення змінної, що було введено останнім"
      ],
      "metadata": {
        "id": "KmhCY0ttt8rW",
        "colab": {
          "base_uri": "https://localhost:8080/"
        },
        "outputId": "28bf6a3a-178e-44c9-abc6-56839ddaeafc"
      },
      "execution_count": null,
      "outputs": [
        {
          "output_type": "execute_result",
          "data": {
            "text/plain": [
              "38"
            ]
          },
          "metadata": {},
          "execution_count": 37
        }
      ]
    },
    {
      "cell_type": "markdown",
      "source": [
        "В клітинці нижче закоментуйте деякі рядки так, аби в результаті виконання останнього рядка коду (`a + b + c`) вивелось `17`.\n",
        "Увага! Рядки треба саме закоментувати, а не видалити.\n",
        "Можна зручно коментувати рядки з допомогою комбінації клавіш `Ctrl + /` (`Command + /` для Mac)"
      ],
      "metadata": {
        "id": "JrUTyGyQufwq"
      }
    },
    {
      "cell_type": "code",
      "source": [
        "a = 10\n",
        "# a = 12\n",
        "# a = 15\n",
        "\n",
        "b = 4\n",
        "# b = 8\n",
        "# b = 14\n",
        "\n",
        "c = 3\n",
        "# c = 6\n",
        "# c = 9\n",
        "\n",
        "\n",
        "a + b + c"
      ],
      "metadata": {
        "id": "R4VXgSQKwVoc",
        "colab": {
          "base_uri": "https://localhost:8080/"
        },
        "outputId": "fd3d1fb2-a3c2-4454-8963-bd640c8f314b"
      },
      "execution_count": null,
      "outputs": [
        {
          "output_type": "execute_result",
          "data": {
            "text/plain": [
              "17"
            ]
          },
          "metadata": {},
          "execution_count": 38
        }
      ]
    }
  ]
}