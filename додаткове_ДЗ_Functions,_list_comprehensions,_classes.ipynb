{
  "cells": [
    {
      "cell_type": "markdown",
      "id": "1846cdd5",
      "metadata": {
        "ExecuteTime": {
          "end_time": "2023-06-16T11:08:23.474987Z",
          "start_time": "2023-06-16T11:08:23.466341Z"
        },
        "id": "1846cdd5"
      },
      "source": [
        "В цьому наборі завдань попрацюємо з фукнціями, класами та list comprehensions.\n",
        "Нагадую синтаксис list comprehension\n",
        "- з умовою if:\n",
        "```\n",
        "newlist = [expression for item in iterable if condition == True]\n",
        "```\n",
        "\n",
        "- з умовою if...else:\n",
        "```\n",
        "newlist = [expression if condition == True else second_expression for item in iterable ]\n",
        "```"
      ]
    },
    {
      "cell_type": "markdown",
      "id": "306cbd4e",
      "metadata": {
        "ExecuteTime": {
          "end_time": "2023-06-15T10:01:54.759901Z",
          "start_time": "2023-06-15T10:01:54.754516Z"
        },
        "id": "306cbd4e"
      },
      "source": [
        "1.Задана функція `strange_func`.\n",
        "Запустіть цю функцію на обчислення всіх елементів зі списку `input_list`. Результат обчислень запишіть у `output_list` та виведіть `output_list` на екран.\n",
        "\n",
        "Реалізуйте прохід всіх елементів списку `input_list` через цикл та через `list comprehension` - двома способами окремо."
      ]
    },
    {
      "cell_type": "code",
      "execution_count": null,
      "id": "b5bab760",
      "metadata": {
        "ExecuteTime": {
          "end_time": "2023-06-15T10:08:21.217301Z",
          "start_time": "2023-06-15T10:08:21.213956Z"
        },
        "id": "b5bab760"
      },
      "outputs": [],
      "source": [
        "def strange_func(number: int) -> str:\n",
        "    if number < 0:\n",
        "        return \"слон\"\n",
        "    else:\n",
        "        return \"жираф\""
      ]
    },
    {
      "cell_type": "code",
      "execution_count": null,
      "id": "61d82a3e",
      "metadata": {
        "ExecuteTime": {
          "end_time": "2023-06-15T10:11:23.708950Z",
          "start_time": "2023-06-15T10:11:23.703596Z"
        },
        "id": "61d82a3e"
      },
      "outputs": [],
      "source": [
        "input_list = [14, -48, 26, 33, 50, 36, 47, -3, 32, -6, -39, -1, 14, -35, 31, -28, 32, 4, 33, 11, -7, 43, -5, 17, -33, -37, 45, -27, -29, 14]"
      ]
    },
    {
      "cell_type": "code",
      "execution_count": null,
      "id": "8eb67fab",
      "metadata": {
        "id": "8eb67fab",
        "colab": {
          "base_uri": "https://localhost:8080/"
        },
        "outputId": "1373aaaa-b06c-416e-a8cf-07147b9ff2ef"
      },
      "outputs": [
        {
          "output_type": "stream",
          "name": "stdout",
          "text": [
            "['жираф', 'слон', 'жираф', 'жираф', 'жираф', 'жираф', 'жираф', 'слон', 'жираф', 'слон', 'слон', 'слон', 'жираф', 'слон', 'жираф', 'слон', 'жираф', 'жираф', 'жираф', 'жираф', 'слон', 'жираф', 'слон', 'жираф', 'слон', 'слон', 'жираф', 'слон', 'слон', 'жираф']\n"
          ]
        }
      ],
      "source": [
        "output_list = []\n",
        "for nums in input_list:\n",
        "  output_list.append(strange_func(nums))\n",
        "print(output_list)"
      ]
    },
    {
      "cell_type": "code",
      "source": [
        "output_list_lc = [strange_func(nums) for nums in input_list]\n",
        "print(output_list_lc)"
      ],
      "metadata": {
        "colab": {
          "base_uri": "https://localhost:8080/"
        },
        "id": "O9Jo0Sf6RHyy",
        "outputId": "ce866803-55bf-41c4-cc41-2459efd4dcba"
      },
      "id": "O9Jo0Sf6RHyy",
      "execution_count": null,
      "outputs": [
        {
          "output_type": "stream",
          "name": "stdout",
          "text": [
            "['жираф', 'слон', 'жираф', 'жираф', 'жираф', 'жираф', 'жираф', 'слон', 'жираф', 'слон', 'слон', 'слон', 'жираф', 'слон', 'жираф', 'слон', 'жираф', 'жираф', 'жираф', 'жираф', 'слон', 'жираф', 'слон', 'жираф', 'слон', 'слон', 'жираф', 'слон', 'слон', 'жираф']\n"
          ]
        }
      ]
    },
    {
      "cell_type": "markdown",
      "id": "39a81ffe",
      "metadata": {
        "ExecuteTime": {
          "end_time": "2023-06-15T10:11:44.344785Z",
          "start_time": "2023-06-15T10:11:44.338699Z"
        },
        "id": "39a81ffe"
      },
      "source": [
        "Очікуваний результат: ```['жираф', 'слон', 'жираф', 'жираф', 'жираф', 'жираф', 'жираф', 'слон', 'жираф', 'слон', 'слон', 'слон', 'жираф', 'слон', 'жираф', 'слон', 'жираф', 'жираф', 'жираф', 'жираф', 'слон', 'жираф', 'слон', 'жираф', 'слон', 'слон', 'жираф', 'слон', 'слон', 'жираф']```"
      ]
    },
    {
      "cell_type": "markdown",
      "id": "cd421b5b",
      "metadata": {
        "id": "cd421b5b"
      },
      "source": [
        "2.Напишіть функцію `custom_func`, яка приймає на вхід число, перевіряє, чи воно є цілочислельного типу, і якщо так, то перевіряє число на парність:\n",
        "- якщо парне - вертає це число в степені 3,\n",
        "- а якщо непарне - це число мінус 10.  \n",
        "\n",
        "Якщо ж число на вході не цілочисельного типу, функція вертає 0.  \n",
        "\n",
        "Запустіть цю функцію на обчислення всіх чисел зі списку `input_list`. Результат обчислень запишіть у `output_list` та виведіть `output_list` на екран.\n",
        "\n",
        "Реалізуйте прохід всіх чисел списку `input_list` через цикл та через `list comprehension` - двома способами окремо."
      ]
    },
    {
      "cell_type": "code",
      "execution_count": null,
      "id": "384b00e0",
      "metadata": {
        "ExecuteTime": {
          "end_time": "2023-06-15T10:10:34.758320Z",
          "start_time": "2023-06-15T10:10:34.754358Z"
        },
        "id": "384b00e0"
      },
      "outputs": [],
      "source": [
        "input_list = [36, 11.1, 91, 93, 26, 12.3213, 69, 50, 58, 22, 77, 18, 24, 55, 11, 76, 10.111, 39, 49, 94, 34, 40, 13, 111.111, 26, 44, 11, 34, 30, 39, 84, 37, 16, 1]"
      ]
    },
    {
      "cell_type": "code",
      "execution_count": null,
      "id": "a9220273",
      "metadata": {
        "id": "a9220273"
      },
      "outputs": [],
      "source": [
        "def custom_func(x):\n",
        "  if not isinstance(x, int):\n",
        "    return 0\n",
        "  if x % 2 == 0:\n",
        "    return x ** 3\n",
        "  else:\n",
        "    return x - 10"
      ]
    },
    {
      "cell_type": "code",
      "source": [
        "output_list = []\n",
        "for nums in input_list:\n",
        "  output_list.append(custom_func(nums))\n",
        "print(output_list)"
      ],
      "metadata": {
        "colab": {
          "base_uri": "https://localhost:8080/"
        },
        "id": "uBAfW9WxSfbi",
        "outputId": "1964cf09-58c0-432d-fd25-136e05c91eb5"
      },
      "id": "uBAfW9WxSfbi",
      "execution_count": null,
      "outputs": [
        {
          "output_type": "stream",
          "name": "stdout",
          "text": [
            "[46656, 0, 81, 83, 17576, 0, 59, 125000, 195112, 10648, 67, 5832, 13824, 45, 1, 438976, 0, 29, 39, 830584, 39304, 64000, 3, 0, 17576, 85184, 1, 39304, 27000, 29, 592704, 27, 4096, -9]\n"
          ]
        }
      ]
    },
    {
      "cell_type": "code",
      "source": [
        "output_list_2 = [custom_func(nums) for nums in input_list]\n",
        "print(output_list_2)"
      ],
      "metadata": {
        "colab": {
          "base_uri": "https://localhost:8080/"
        },
        "id": "5rbYwBT0T88Y",
        "outputId": "7d445f6a-e449-4573-c0cd-ea3596bbc58d"
      },
      "id": "5rbYwBT0T88Y",
      "execution_count": null,
      "outputs": [
        {
          "output_type": "stream",
          "name": "stdout",
          "text": [
            "[46656, 0, 81, 83, 17576, 0, 59, 125000, 195112, 10648, 67, 5832, 13824, 45, 1, 438976, 0, 29, 39, 830584, 39304, 64000, 3, 0, 17576, 85184, 1, 39304, 27000, 29, 592704, 27, 4096, -9]\n"
          ]
        }
      ]
    },
    {
      "cell_type": "markdown",
      "id": "e2723875",
      "metadata": {
        "ExecuteTime": {
          "end_time": "2023-06-15T10:04:46.583145Z",
          "start_time": "2023-06-15T10:04:46.577899Z"
        },
        "id": "e2723875"
      },
      "source": [
        "Очікуваний результат:\n",
        "```[46656, 0, 81, 83, 17576, 0, 59, 125000, 195112, 10648, 67, 5832, 13824, 45, 1, 438976, 0, 29, 39, 830584, 39304, 64000, 3, 0, 17576, 85184, 1, 39304, 27000, 29, 592704, 27, 4096, -9]```"
      ]
    },
    {
      "cell_type": "markdown",
      "id": "12db4919",
      "metadata": {
        "ExecuteTime": {
          "end_time": "2023-06-15T10:06:39.204299Z",
          "start_time": "2023-06-15T10:06:39.198232Z"
        },
        "id": "12db4919"
      },
      "source": [
        "Аби програмно порівняти ваш результат за очікуваним - використайте код нижче:"
      ]
    },
    {
      "cell_type": "code",
      "execution_count": null,
      "id": "84c13de2",
      "metadata": {
        "ExecuteTime": {
          "end_time": "2023-06-15T10:06:16.137271Z",
          "start_time": "2023-06-15T10:06:16.131305Z"
        },
        "id": "84c13de2",
        "colab": {
          "base_uri": "https://localhost:8080/"
        },
        "outputId": "f1afbc3c-145c-4844-a9d5-8f7baa837db7"
      },
      "outputs": [
        {
          "output_type": "execute_result",
          "data": {
            "text/plain": [
              "True"
            ]
          },
          "metadata": {},
          "execution_count": 39
        }
      ],
      "source": [
        "output_list == [46656, 0, 81, 83, 17576, 0, 59, 125000, 195112, 10648, 67, 5832, 13824, 45, 1, 438976, 0, 29, 39, 830584, 39304, 64000, 3, 0, 17576, 85184, 1, 39304, 27000, 29, 592704, 27, 4096, -9]"
      ]
    },
    {
      "cell_type": "markdown",
      "id": "602e8fd8",
      "metadata": {
        "ExecuteTime": {
          "end_time": "2023-06-15T09:50:40.693543Z",
          "start_time": "2023-06-15T09:50:40.680059Z"
        },
        "id": "602e8fd8"
      },
      "source": [
        "3.Напишіть функцію, яка отримує список чисел і повертає інший список із квадратами чисел, які діляться на 2 із вихідного списку. Наприклад, якщо на вході список [1,2,3,4], то на виході буде список [4,16].\n",
        "\n",
        "Запустіть функцію на вхідних списках `numbers_1`, `numbers_2`, `numbers_3` та виведіть результат роботи фукнції на екран."
      ]
    },
    {
      "cell_type": "code",
      "execution_count": null,
      "id": "4ed96c9d",
      "metadata": {
        "ExecuteTime": {
          "end_time": "2023-06-15T10:17:52.021673Z",
          "start_time": "2023-06-15T10:17:52.016216Z"
        },
        "id": "4ed96c9d"
      },
      "outputs": [],
      "source": [
        "numbers_1 = [1, 2, 3, 4, 5, 6, 7, 8, 9, 10]\n",
        "numbers_2 = [-18, 35, 50, 2, -39, 8, -39, -15, 14, -42]\n",
        "numbers_3 = [-3.1, 1.11, 3.48, 4.48, 4.68, -1.59, -1.8, 1.76, 4.7, 2.0]"
      ]
    },
    {
      "cell_type": "code",
      "execution_count": null,
      "id": "d8b1a5d7",
      "metadata": {
        "id": "d8b1a5d7"
      },
      "outputs": [],
      "source": [
        "def sqrs(num):\n",
        "  result = []\n",
        "  for numbers in num:\n",
        "    if numbers % 2 == 0:\n",
        "      result.append(int(numbers ** 2))\n",
        "  return result"
      ]
    },
    {
      "cell_type": "code",
      "source": [
        "numbers_1 = [1, 2, 3, 4, 5, 6, 7, 8, 9, 10]\n",
        "numbers_2 = [-18, 35, 50, 2, -39, 8, -39, -15, 14, -42]\n",
        "numbers_3 = [-3.1, 1.11, 3.48, 4.48, 4.68, -1.59, -1.8, 1.76, 4.7, 2.0]\n",
        "\n",
        "for idx, sets in enumerate([numbers_1, numbers_2, numbers_3], 1):\n",
        "  print(sqrs(sets))"
      ],
      "metadata": {
        "colab": {
          "base_uri": "https://localhost:8080/"
        },
        "id": "yJVHGm51VQLS",
        "outputId": "8d0658ac-e82b-497d-9db1-d3c93d37e4c9"
      },
      "id": "yJVHGm51VQLS",
      "execution_count": null,
      "outputs": [
        {
          "output_type": "stream",
          "name": "stdout",
          "text": [
            "[4, 16, 36, 64, 100]\n",
            "[324, 2500, 4, 64, 196, 1764]\n",
            "[4]\n"
          ]
        }
      ]
    },
    {
      "cell_type": "markdown",
      "id": "96fead27",
      "metadata": {
        "ExecuteTime": {
          "end_time": "2023-06-15T10:18:22.220464Z",
          "start_time": "2023-06-15T10:18:22.215833Z"
        },
        "id": "96fead27"
      },
      "source": [
        "Очікуваний результат:\n",
        "\n",
        "```\n",
        "    [4, 16, 36, 64, 100]\n",
        "    [324, 2500, 4, 64, 196, 1764]\n",
        "    [4.0]\n",
        "```"
      ]
    },
    {
      "cell_type": "markdown",
      "id": "93830499",
      "metadata": {
        "id": "93830499"
      },
      "source": [
        "4. Наданий список фруктів. Запишіть у новий список лише ті фрукти, які містять у своїй назві літеру `a`. Виведіть фінальний список на екран.\n",
        "\n",
        "Виконайте завдання із використанням циклу, та через `list comprehension` - двома способами окремо.  \n",
        "Увага! В цьому завданні логіку перевірки чи містить рядок літеру можна винести у функцію. Але якщо не виносити, то реалізація з `list comprehension` буде цікавішою :)"
      ]
    },
    {
      "cell_type": "code",
      "execution_count": 1,
      "id": "9d52d585",
      "metadata": {
        "ExecuteTime": {
          "end_time": "2023-06-16T11:04:38.519497Z",
          "start_time": "2023-06-16T11:04:38.489031Z"
        },
        "id": "9d52d585"
      },
      "outputs": [],
      "source": [
        "fruits = [\"apple\", \"banana\", \"cherry\", \"date\", \"elderberry\", \"fig\", \"grape\", \"honeydew\", \"indian prune\", \"jackfruit\", \"kiwi\", \"lemon\", \"mango\", \"nectarine\", \"orange\", \"pineapple\", \"quince\", \"raspberry\", \"strawberry\", \"tangerine\", \"ugli fruit\", \"victoria plum\", \"watermelon\", \"xigua\", \"yellow passionfruit\", \"zucchini\"]"
      ]
    },
    {
      "cell_type": "code",
      "execution_count": 3,
      "id": "e503441f",
      "metadata": {
        "id": "e503441f",
        "colab": {
          "base_uri": "https://localhost:8080/"
        },
        "outputId": "544e240d-b030-415a-9b7a-4e258ca729d8"
      },
      "outputs": [
        {
          "output_type": "stream",
          "name": "stdout",
          "text": [
            "['apple', 'banana', 'date', 'grape', 'indian prune', 'jackfruit', 'mango', 'nectarine', 'orange', 'pineapple', 'raspberry', 'strawberry', 'tangerine', 'victoria plum', 'watermelon', 'xigua', 'yellow passionfruit']\n"
          ]
        }
      ],
      "source": [
        "# 1 варіант з циклом\n",
        "letter = 'a'\n",
        "a_fruits = []\n",
        "for word in fruits:\n",
        "  if letter in word:\n",
        "    a_fruits.append(word)\n",
        "print(a_fruits)"
      ]
    },
    {
      "cell_type": "code",
      "source": [
        "# 2 варіант через list comprehension\n",
        "letter = 'a'\n",
        "a_fruits_lc = [word for word in fruits if letter in word]\n",
        "print(a_fruits_lc)"
      ],
      "metadata": {
        "colab": {
          "base_uri": "https://localhost:8080/"
        },
        "id": "KZvO0cwFyc6J",
        "outputId": "10333dc9-1881-4b21-b4e7-b6cca1879345"
      },
      "id": "KZvO0cwFyc6J",
      "execution_count": 5,
      "outputs": [
        {
          "output_type": "stream",
          "name": "stdout",
          "text": [
            "['apple', 'banana', 'date', 'grape', 'indian prune', 'jackfruit', 'mango', 'nectarine', 'orange', 'pineapple', 'raspberry', 'strawberry', 'tangerine', 'victoria plum', 'watermelon', 'xigua', 'yellow passionfruit']\n"
          ]
        }
      ]
    },
    {
      "cell_type": "markdown",
      "id": "6eba3ce5",
      "metadata": {
        "ExecuteTime": {
          "end_time": "2023-06-16T11:12:20.070099Z",
          "start_time": "2023-06-16T11:12:20.065489Z"
        },
        "id": "6eba3ce5"
      },
      "source": [
        "5.Заданий список чисел. Створіть новий список на основі заданоо за наступною логікою\n",
        "- якщо число більше або дорівнює 45, то в новий список додаємо це число + 5. Наприклад, для числа 50 вихідного списку, в новий ми додамо число 55\n",
        "- інакше - це число - 4. Наприклад, для числа 30 вихідного списку, в новий ми додамо число 26  \n",
        "\n",
        "Виведіть отриманий список на екран.\n",
        "\n",
        "Реалізуйте логіку через цикл та через `list comprehension` - двома способами окремо."
      ]
    },
    {
      "cell_type": "code",
      "execution_count": 6,
      "id": "64c30414",
      "metadata": {
        "ExecuteTime": {
          "end_time": "2023-06-16T11:13:01.047506Z",
          "start_time": "2023-06-16T11:13:01.044731Z"
        },
        "id": "64c30414"
      },
      "outputs": [],
      "source": [
        "input_list = [22, 13, 45, 50, 98, 69, 43, 44, 1]"
      ]
    },
    {
      "cell_type": "code",
      "execution_count": 7,
      "id": "0e3a8bcd",
      "metadata": {
        "id": "0e3a8bcd",
        "colab": {
          "base_uri": "https://localhost:8080/"
        },
        "outputId": "646c9af5-b1a9-4cdc-d656-c124a1ca7a94"
      },
      "outputs": [
        {
          "output_type": "stream",
          "name": "stdout",
          "text": [
            "[18, 9, 50, 55, 103, 74, 39, 40, -3]\n"
          ]
        }
      ],
      "source": [
        "# 1 варіант з циклом\n",
        "output_lst = []\n",
        "for numss in input_list:\n",
        "  if numss >= 45:\n",
        "    output_lst.append(numss + 5)\n",
        "  else:\n",
        "    output_lst.append(numss - 4)\n",
        "print(output_lst)"
      ]
    },
    {
      "cell_type": "code",
      "source": [
        "# 2 варіант через list comprehension\n",
        "output_lst_lc = [(numss + 5) if numss >= 45 else (numss - 4) for numss in input_list]\n",
        "print(output_lst_lc)"
      ],
      "metadata": {
        "colab": {
          "base_uri": "https://localhost:8080/"
        },
        "id": "Sl1yGu7o0Yt2",
        "outputId": "4a369d40-8b92-402f-9a96-4f99af067050"
      },
      "id": "Sl1yGu7o0Yt2",
      "execution_count": 14,
      "outputs": [
        {
          "output_type": "stream",
          "name": "stdout",
          "text": [
            "[18, 9, 50, 55, 103, 74, 39, 40, -3]\n"
          ]
        }
      ]
    },
    {
      "cell_type": "markdown",
      "id": "3788acf1",
      "metadata": {
        "id": "3788acf1"
      },
      "source": [
        "6.Заданий список `input_list` з пропущеними значеннями. Напишіть логіку, за якою ми будемо створювати новий список такий, що якщо значення None, то ми замість нього вставляємо 0, інакше - елемент вихідного спику.\n",
        "Тобто зі списку [1, None, 2] за цією логікою ми отримаємо [1, 0, 2] у новому списку.\n",
        "\n",
        "Виведіть отриманий список на екран.\n",
        "\n",
        "Реалізуйте логіку через цикл та через list comprehension - двома способами окремо."
      ]
    },
    {
      "cell_type": "code",
      "execution_count": 16,
      "id": "7124a4c2",
      "metadata": {
        "ExecuteTime": {
          "end_time": "2023-06-16T11:17:59.925084Z",
          "start_time": "2023-06-16T11:17:59.922391Z"
        },
        "id": "7124a4c2"
      },
      "outputs": [],
      "source": [
        "input_list = [22, None, 13, None, None, 45, 50, 98, None, 69, 43, 44, 1, None]"
      ]
    },
    {
      "cell_type": "code",
      "execution_count": 19,
      "id": "e7212a8c",
      "metadata": {
        "id": "e7212a8c",
        "colab": {
          "base_uri": "https://localhost:8080/"
        },
        "outputId": "058ff5fa-c7b9-48f1-cc4b-e50b035dd368"
      },
      "outputs": [
        {
          "output_type": "stream",
          "name": "stdout",
          "text": [
            "[22, 0, 13, 0, 0, 45, 50, 98, 0, 69, 43, 44, 1, 0]\n"
          ]
        }
      ],
      "source": [
        "# 1 варіант з циклом\n",
        "zero_list = []\n",
        "for num in input_list:\n",
        "  if num == None:\n",
        "    zero_list.append(0)\n",
        "  else:\n",
        "    zero_list.append(num)\n",
        "print(zero_list)"
      ]
    },
    {
      "cell_type": "code",
      "source": [
        "# 2 варіант через list comprehension\n",
        "zero_list_lc = [0 if num == None else num for num in input_list]\n",
        "print(zero_list_lc)"
      ],
      "metadata": {
        "colab": {
          "base_uri": "https://localhost:8080/"
        },
        "id": "a6M18Xoo2Blg",
        "outputId": "40312df0-3b8a-4b11-fbf6-5c8be2f7a75e"
      },
      "id": "a6M18Xoo2Blg",
      "execution_count": 23,
      "outputs": [
        {
          "output_type": "stream",
          "name": "stdout",
          "text": [
            "[22, 0, 13, 0, 0, 45, 50, 98, 0, 69, 43, 44, 1, 0]\n"
          ]
        }
      ]
    },
    {
      "cell_type": "markdown",
      "id": "6d491849",
      "metadata": {
        "id": "6d491849"
      },
      "source": [
        "7.Заданий клас, який описує коло та вміє рахувати площу кола по заданому радіусу. Створіть два кола з радіусами 5 і 11. Обчислість з допомогою функціоналу класу площі цих двох кіл і виведіть результати на екран."
      ]
    },
    {
      "cell_type": "code",
      "execution_count": 25,
      "id": "fa5b47ac",
      "metadata": {
        "ExecuteTime": {
          "end_time": "2023-06-16T11:36:33.504851Z",
          "start_time": "2023-06-16T11:36:33.498537Z"
        },
        "id": "fa5b47ac"
      },
      "outputs": [],
      "source": [
        "import math\n",
        "\n",
        "class Circle:\n",
        "    def __init__(self, radius):\n",
        "        self.radius = radius\n",
        "\n",
        "    def calculate_area(self):\n",
        "        return round(math.pi * self.radius ** 2, 2)"
      ]
    },
    {
      "cell_type": "code",
      "execution_count": 35,
      "id": "2bcdc94a",
      "metadata": {
        "id": "2bcdc94a",
        "colab": {
          "base_uri": "https://localhost:8080/"
        },
        "outputId": "ab883376-c71d-477a-975c-43bca8eeba5d"
      },
      "outputs": [
        {
          "output_type": "stream",
          "name": "stdout",
          "text": [
            "площа першого кола: 78.54\n",
            "площа другого кола: 380.13\n"
          ]
        }
      ],
      "source": [
        "circle_1 = Circle(5)\n",
        "circle_2 = Circle(11)\n",
        "\n",
        "print(f'площа першого кола: {circle_1.calculate_area()}')\n",
        "print(f'площа другого кола: {circle_2.calculate_area()}')"
      ]
    },
    {
      "cell_type": "markdown",
      "id": "430f698b",
      "metadata": {
        "id": "430f698b"
      },
      "source": [
        "8.Додайте в клас `Circle`, визначений в попередньому завданні, метод для обчислення периметра `calculate_perimeter` з округленням до двох цифр після коми. Периметр кола рахується за формулою `C = 2 · π · r`, де π - це значення числа Пі, яке ми можемо отримати з math.pi, а r - радіус кола. Спопіюйте визначення класу і додайте в нього новий метод. Після цього створіть нові кола з радіусами 5 і 11 та обчисліть їх периметри.   \n",
        "Увага: нам треба додати новий метод, але ми нічого не видаляємо :)"
      ]
    },
    {
      "cell_type": "code",
      "execution_count": 34,
      "id": "731544fd",
      "metadata": {
        "id": "731544fd"
      },
      "outputs": [],
      "source": [
        "import math\n",
        "\n",
        "class Circle:\n",
        "    def __init__(self, radius):\n",
        "        self.radius = radius\n",
        "\n",
        "    def calculate_area(self):\n",
        "        return round(math.pi * self.radius ** 2, 2)\n",
        "\n",
        "    def calculate_perimeter(self):\n",
        "        return round(2 * math.pi * self.radius, 2)"
      ]
    },
    {
      "cell_type": "code",
      "source": [
        "circle_1 = Circle(5)\n",
        "circle_2 = Circle(11)\n",
        "\n",
        "print(f'довжина першого кола: {circle_1.calculate_perimeter()}')\n",
        "print(f'довжина другого кола: {circle_2.calculate_perimeter()}')"
      ],
      "metadata": {
        "colab": {
          "base_uri": "https://localhost:8080/"
        },
        "id": "eCsEnErq7mkS",
        "outputId": "2f2d6858-adef-41ca-8bf5-15acaec1ecfb"
      },
      "id": "eCsEnErq7mkS",
      "execution_count": 36,
      "outputs": [
        {
          "output_type": "stream",
          "name": "stdout",
          "text": [
            "довжина першого кола: 31.42\n",
            "довжина другого кола: 69.12\n"
          ]
        }
      ]
    },
    {
      "cell_type": "markdown",
      "id": "4a39e47f",
      "metadata": {
        "id": "4a39e47f"
      },
      "source": [
        "9.Створіть клас під назвою `Student`, який має два атрибути: `name` (ім'я) та `grade` (оцінка). Оцінкою може були літера - з набору  [\"F\", \"D\", \"C\", \"B\", \"A\"], де \"А\" - найвища оцінка, \"F\" - найнижча.  Клас повинен мати наступні функціональні можливості:\n",
        "\n",
        "1. Метод `__init__`, який ініціалізує `name` та `grade`.\n",
        "2. Метод `display_student()`, який відображає ім'я та оцінку студента з допомогою `print`. Форматування - на Ваш розсуд.\n",
        "3. Метод `upgrade_grade()`, який підвищує оцінку на 1 рівень (наприклад, з \"B\" на \"A\"), якщо вона вже не \"A\". Якщо вже \"А\", то необхідно вивести повідомлення про те, що оцінка не може бути підвищена, оскільки вона вже і так найвища.\n",
        "\n",
        "Після створення класу, створіть 2 екземпляри `Student` з вигаданими імʼями та оцінками, і перевірте роботу методів `display_student()` та `upgrade_grade()`. Виведіть результат перевірки на екран."
      ]
    },
    {
      "cell_type": "code",
      "execution_count": 63,
      "id": "51ef0571",
      "metadata": {
        "id": "51ef0571"
      },
      "outputs": [],
      "source": [
        "class Student:\n",
        "  grades = [\"F\", \"D\", \"C\", \"B\", \"A\"]\n",
        "\n",
        "  def __init__(self, name, grade):\n",
        "    if grade not in Student.grades:\n",
        "      raise ValueError('такої оцінки не існує')\n",
        "    self.name = name\n",
        "    self.grade = grade\n",
        "\n",
        "  def display_student(self):\n",
        "    print(f'student: {self.name}, grade: {self.grade}')\n",
        "\n",
        "  def upgrade_grade(self):\n",
        "    index = Student.grades.index(self.grade)\n",
        "    if self.grade == 'A':\n",
        "      print(f'student already has the highest grade possible')\n",
        "    else:\n",
        "      self.grade = Student.grades[index + 1]\n",
        "      print(f'grade was upgraded to {self.grade}')"
      ]
    },
    {
      "cell_type": "code",
      "source": [
        "student_1 = Student('Arthur', 'A')\n",
        "student_2 = Student('Artem', 'F')\n",
        "\n",
        "\n",
        "student_2.display_student()\n",
        "student_2.upgrade_grade()\n",
        "student_2.display_student()"
      ],
      "metadata": {
        "colab": {
          "base_uri": "https://localhost:8080/"
        },
        "id": "zIm0u-l6_IGH",
        "outputId": "55528fd3-41c2-405a-bf37-32ab5c689795"
      },
      "id": "zIm0u-l6_IGH",
      "execution_count": 65,
      "outputs": [
        {
          "output_type": "stream",
          "name": "stdout",
          "text": [
            "student: Artem, grade: F\n",
            "grade was upgraded to D\n",
            "student: Artem, grade: D\n"
          ]
        }
      ]
    },
    {
      "cell_type": "markdown",
      "id": "fbf61911",
      "metadata": {
        "id": "fbf61911"
      },
      "source": [
        "10.Створіть клас з назвою `GraduateStudent`, який є нащадком класу `Student` з попереднього завдання.\n",
        "Клас `GraduateStudent` повинен мати додатковий атрибут `thesis_title` (назва дисертації - тип str). Тобто цей атрибут має зʼявитись при ініціації екземпляру класу.  \n",
        "Він також повинен мати метод `display_thesis()`, який виводить назву дисертації.\n",
        "\n",
        "Після створення класу, створіть екземпляр `GraduateStudent` і перевірте роботу методів `display_student()`, `upgrade_grade()`, та `display_thesis()`. Виведіть результат перевірки на екран.\n",
        "\n"
      ]
    },
    {
      "cell_type": "code",
      "execution_count": 83,
      "id": "aafe9159",
      "metadata": {
        "id": "aafe9159"
      },
      "outputs": [],
      "source": [
        "class GraduateStudent(Student):\n",
        "  def __init__(self, name, grade, thesis_title):\n",
        "    super().__init__(name, grade)\n",
        "    self.thesis_title = thesis_title\n",
        "  def display_thesis(self):\n",
        "    print(f'thesis title is: {self.thesis_title}')"
      ]
    },
    {
      "cell_type": "code",
      "source": [
        "student_3 = GraduateStudent('Andriy', 'B', 'Integrating Vector Search with Relational Databases')\n",
        "\n",
        "student_3.display_student()\n",
        "student_3.upgrade_grade()\n",
        "student_3.display_student()\n",
        "student_3.display_thesis()"
      ],
      "metadata": {
        "colab": {
          "base_uri": "https://localhost:8080/"
        },
        "id": "vlrj5CzuPXqr",
        "outputId": "dfe1cb4b-665f-4737-aab2-c0946e55e794"
      },
      "id": "vlrj5CzuPXqr",
      "execution_count": 84,
      "outputs": [
        {
          "output_type": "stream",
          "name": "stdout",
          "text": [
            "student: Andriy, grade: B\n",
            "grade was upgraded to A\n",
            "student: Andriy, grade: A\n",
            "thesis title is: Integrating Vector Search with Relational Databases\n"
          ]
        }
      ]
    }
  ],
  "metadata": {
    "kernelspec": {
      "display_name": "Python 3 (ipykernel)",
      "language": "python",
      "name": "python3"
    },
    "language_info": {
      "codemirror_mode": {
        "name": "ipython",
        "version": 3
      },
      "file_extension": ".py",
      "mimetype": "text/x-python",
      "name": "python",
      "nbconvert_exporter": "python",
      "pygments_lexer": "ipython3",
      "version": "3.10.4"
    },
    "toc": {
      "base_numbering": 1,
      "nav_menu": {},
      "number_sections": true,
      "sideBar": true,
      "skip_h1_title": false,
      "title_cell": "Table of Contents",
      "title_sidebar": "Contents",
      "toc_cell": false,
      "toc_position": {},
      "toc_section_display": true,
      "toc_window_display": false
    },
    "colab": {
      "provenance": []
    }
  },
  "nbformat": 4,
  "nbformat_minor": 5
}